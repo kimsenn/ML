{
 "cells": [
  {
   "cell_type": "markdown",
   "metadata": {},
   "source": [
    "# 소셜네트워크 이론과 응용 \n",
    "## Node Importance - Centralities  "
   ]
  },
  {
   "cell_type": "code",
   "execution_count": 31,
   "metadata": {},
   "outputs": [],
   "source": [
    "import numpy as np"
   ]
  },
  {
   "cell_type": "code",
   "execution_count": 32,
   "metadata": {},
   "outputs": [],
   "source": [
    "arr = np.array(\n",
    "    [\n",
    "        [0, 1, 1, 1, 0, 0, 0, 0],\n",
    "        [1, 0, 0, 1, 1, 0, 0, 0],\n",
    "        [1, 0, 0, 0, 0, 1, 1, 1],\n",
    "        [1, 1, 0, 0, 1, 0, 0, 0],\n",
    "        [0, 1, 0, 1, 0, 0, 0, 0],\n",
    "        [0, 0, 1, 0, 0, 0, 1, 0],\n",
    "        [0, 0, 1, 0, 0, 1, 0, 1],\n",
    "        [0, 0, 1, 0, 0, 0, 1, 0]\n",
    "])"
   ]
  },
  {
   "cell_type": "markdown",
   "metadata": {},
   "source": [
    "## Eigenvector centrality"
   ]
  },
  {
   "cell_type": "code",
   "execution_count": 33,
   "metadata": {},
   "outputs": [
    {
     "data": {
      "text/plain": [
       "(8, 8)"
      ]
     },
     "execution_count": 33,
     "metadata": {},
     "output_type": "execute_result"
    }
   ],
   "source": [
    "arr.shape"
   ]
  },
  {
   "cell_type": "code",
   "execution_count": 34,
   "metadata": {},
   "outputs": [
    {
     "data": {
      "text/plain": [
       "array([0.59111965, 0.73931797, 0.317461  , 0.86364972, 0.78832582,\n",
       "       0.96324443, 0.67261484, 0.68147964])"
      ]
     },
     "execution_count": 34,
     "metadata": {},
     "output_type": "execute_result"
    }
   ],
   "source": [
    "e_vec = np.random.rand(arr.shape[0]) # 8개 식\n",
    "e_value = 1.0\n",
    "e_vec"
   ]
  },
  {
   "cell_type": "code",
   "execution_count": 35,
   "metadata": {
    "scrolled": true
   },
   "outputs": [
    {
     "name": "stdout",
     "output_type": "stream",
     "text": [
      "*** Eigenvector centrality ***\n",
      "Eigen Value :  2.872276267492233\n",
      "Eigen Vector :  [0.40631621 0.34551749 0.4760174  0.34551749 0.24058793 0.29492471\n",
      " 0.37108784 0.29492471]\n"
     ]
    }
   ],
   "source": [
    "# iteration 반복\n",
    "while True:\n",
    "    eig_vec = np.dot(arr, e_vec)\n",
    "    eig_value = max(abs(eig_vec))\n",
    "    eig_vec = eig_vec / eig_value\n",
    "\n",
    "    stop_condition = abs(eig_value - e_value)\n",
    "    if stop_condition <= 1e-8:\n",
    "        break\n",
    "    else:\n",
    "        e_vec = eig_vec\n",
    "        e_value = eig_value\n",
    "\n",
    "e_vec = e_vec / np.linalg.norm(e_vec)\n",
    "\n",
    "print(\"*** Eigenvector centrality ***\")\n",
    "print(\"Eigen Value : \", e_value)\n",
    "print(\"Eigen Vector : \", e_vec)"
   ]
  },
  {
   "cell_type": "markdown",
   "metadata": {},
   "source": [
    "## Closeness centrality"
   ]
  },
  {
   "cell_type": "code",
   "execution_count": 36,
   "metadata": {},
   "outputs": [],
   "source": [
    "def get_distances_matrix(arr, i, j, path=[]):\n",
    "    path = path + [i]\n",
    "    if i == j:\n",
    "        return path\n",
    "    if i not in graph:\n",
    "        return None\n",
    "\n",
    "    shortest = None\n",
    "    for node in graph[i]:\n",
    "        if node not in path:\n",
    "            new_path = get_distances_matrix(arr, node, j, path)\n",
    "            if new_path:\n",
    "                if not shortest or len(new_path) < len(shortest):\n",
    "                    shortest = new_path\n",
    "    return shortest"
   ]
  },
  {
   "cell_type": "code",
   "execution_count": 37,
   "metadata": {},
   "outputs": [
    {
     "name": "stdout",
     "output_type": "stream",
     "text": [
      "[[0 1 1 1 2 2 2 2]\n",
      " [1 0 2 1 1 3 3 3]\n",
      " [1 2 0 2 3 1 1 1]\n",
      " [1 1 2 0 1 3 3 3]\n",
      " [2 1 3 1 0 4 4 4]\n",
      " [2 3 1 3 4 0 1 2]\n",
      " [2 3 1 3 4 1 0 1]\n",
      " [2 3 1 3 4 2 1 0]]\n"
     ]
    }
   ],
   "source": [
    "#hash\n",
    "D_matrix = np.copy(arr)\n",
    "graph = {}\n",
    "for i in range(arr.shape[0]):\n",
    "    seen = []\n",
    "    for j in range(arr.shape[0]):\n",
    "        if arr[i][j] == 1:\n",
    "            seen.append(j)\n",
    "    graph[i] = seen\n",
    "\n",
    "for i in range(arr.shape[0]):\n",
    "    for j in range(arr.shape[0]):\n",
    "        if i != j:\n",
    "            if D_matrix[i][j] != 1:\n",
    "                D_matrix[i][j] = len(get_distances_matrix(graph, i, j)) - 1\n",
    "\n",
    "print(D_matrix)"
   ]
  },
  {
   "cell_type": "code",
   "execution_count": 39,
   "metadata": {},
   "outputs": [
    {
     "name": "stdout",
     "output_type": "stream",
     "text": [
      "*** Closeness centrality ***\n",
      "C1 = 0.6364\n",
      "C2 = 0.5\n",
      "C3 = 0.6364\n",
      "C4 = 0.5\n",
      "C5 = 0.3684\n",
      "C6 = 0.4375\n",
      "C7 = 0.4667\n",
      "C8 = 0.4375\n"
     ]
    }
   ],
   "source": [
    "print(\"*** Closeness centrality ***\")\n",
    "for i in range(D_matrix.shape[0]):\n",
    "    val = (D_matrix.shape[0] - 1) / np.sum(D_matrix[i])\n",
    "    print(\"C{} = {}\".format(i+1, round(val,4)))"
   ]
  }
 ],
 "metadata": {
  "kernelspec": {
   "display_name": "Python 3",
   "language": "python",
   "name": "python3"
  },
  "language_info": {
   "codemirror_mode": {
    "name": "ipython",
    "version": 3
   },
   "file_extension": ".py",
   "mimetype": "text/x-python",
   "name": "python",
   "nbconvert_exporter": "python",
   "pygments_lexer": "ipython3",
   "version": "3.8.5"
  }
 },
 "nbformat": 4,
 "nbformat_minor": 4
}
