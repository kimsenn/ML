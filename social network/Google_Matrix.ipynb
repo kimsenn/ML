{
 "cells": [
  {
   "cell_type": "markdown",
   "metadata": {},
   "source": [
    "# 소셜네트워크 이론과 응용 \n",
    "## Google Matrix 예제 \n",
    "- 웹 중요도 Google Matrix를 이용하여 계산 (그림: N20Q_Q3_How does Google rank web pages.pdf 파일 28p)\n",
    "- no dangling node, 확률 0.85"
   ]
  },
  {
   "cell_type": "code",
   "execution_count": 1,
   "metadata": {},
   "outputs": [],
   "source": [
    "import numpy as np"
   ]
  },
  {
   "cell_type": "code",
   "execution_count": 2,
   "metadata": {},
   "outputs": [],
   "source": [
    "H = np.array([\n",
    "    [0, 1/2, 1/2, 0, 0, 0, 0, 0],\n",
    "    [1/2, 0, 0, 0, 1/2, 0, 0 ,0],\n",
    "    [0, 1/2, 0, 0, 0, 0, 0, 1/2],\n",
    "    [0, 0, 1, 0, 0, 0, 0, 0],\n",
    "    [0, 0, 0, 1/2, 0, 0, 0, 1/2],\n",
    "    [0, 0, 0, 1/2, 1/2, 0, 0, 0],\n",
    "    [0, 0, 0, 1/2, 0, 1/2, 0, 0],\n",
    "    [1/3, 0, 0, 1/3, 0, 0, 1/3, 0]\n",
    "])"
   ]
  },
  {
   "cell_type": "code",
   "execution_count": 3,
   "metadata": {},
   "outputs": [
    {
     "data": {
      "text/plain": [
       "(8, 8)"
      ]
     },
     "execution_count": 3,
     "metadata": {},
     "output_type": "execute_result"
    }
   ],
   "source": [
    "H.shape"
   ]
  },
  {
   "cell_type": "code",
   "execution_count": 4,
   "metadata": {},
   "outputs": [
    {
     "data": {
      "text/plain": [
       "array([[1., 1., 1., 1., 1., 1., 1., 1.],\n",
       "       [1., 1., 1., 1., 1., 1., 1., 1.],\n",
       "       [1., 1., 1., 1., 1., 1., 1., 1.],\n",
       "       [1., 1., 1., 1., 1., 1., 1., 1.],\n",
       "       [1., 1., 1., 1., 1., 1., 1., 1.],\n",
       "       [1., 1., 1., 1., 1., 1., 1., 1.],\n",
       "       [1., 1., 1., 1., 1., 1., 1., 1.],\n",
       "       [1., 1., 1., 1., 1., 1., 1., 1.]])"
      ]
     },
     "execution_count": 4,
     "metadata": {},
     "output_type": "execute_result"
    }
   ],
   "source": [
    "np.ones((8,8))"
   ]
  },
  {
   "cell_type": "code",
   "execution_count": 5,
   "metadata": {
    "scrolled": true
   },
   "outputs": [],
   "source": [
    "G = 0.85 * H + 0.15 / 8 * np.ones((8,8))"
   ]
  },
  {
   "cell_type": "code",
   "execution_count": 6,
   "metadata": {},
   "outputs": [
    {
     "data": {
      "text/plain": [
       "array([[0.01875   , 0.44375   , 0.44375   , 0.01875   , 0.01875   ,\n",
       "        0.01875   , 0.01875   , 0.01875   ],\n",
       "       [0.44375   , 0.01875   , 0.01875   , 0.01875   , 0.44375   ,\n",
       "        0.01875   , 0.01875   , 0.01875   ],\n",
       "       [0.01875   , 0.44375   , 0.01875   , 0.01875   , 0.01875   ,\n",
       "        0.01875   , 0.01875   , 0.44375   ],\n",
       "       [0.01875   , 0.01875   , 0.86875   , 0.01875   , 0.01875   ,\n",
       "        0.01875   , 0.01875   , 0.01875   ],\n",
       "       [0.01875   , 0.01875   , 0.01875   , 0.44375   , 0.01875   ,\n",
       "        0.01875   , 0.01875   , 0.44375   ],\n",
       "       [0.01875   , 0.01875   , 0.01875   , 0.44375   , 0.44375   ,\n",
       "        0.01875   , 0.01875   , 0.01875   ],\n",
       "       [0.01875   , 0.01875   , 0.01875   , 0.44375   , 0.01875   ,\n",
       "        0.44375   , 0.01875   , 0.01875   ],\n",
       "       [0.30208333, 0.01875   , 0.01875   , 0.30208333, 0.01875   ,\n",
       "        0.01875   , 0.30208333, 0.01875   ]])"
      ]
     },
     "execution_count": 6,
     "metadata": {},
     "output_type": "execute_result"
    }
   ],
   "source": [
    "G"
   ]
  },
  {
   "cell_type": "code",
   "execution_count": 7,
   "metadata": {},
   "outputs": [],
   "source": [
    "init = [1/8,1/8,1/8,1/8,1/8,1/8,1/8,1/8] "
   ]
  },
  {
   "cell_type": "code",
   "execution_count": 8,
   "metadata": {},
   "outputs": [
    {
     "data": {
      "text/plain": [
       "array([0.10729167, 0.125     , 0.178125  , 0.21354167, 0.125     ,\n",
       "       0.071875  , 0.05416667, 0.125     ])"
      ]
     },
     "execution_count": 8,
     "metadata": {},
     "output_type": "execute_result"
    }
   ],
   "source": [
    "ans = init@G\n",
    "ans"
   ]
  },
  {
   "cell_type": "code",
   "execution_count": 9,
   "metadata": {},
   "outputs": [
    {
     "data": {
      "text/plain": [
       "array([0.10729167, 0.14005208, 0.24585937, 0.16085937, 0.10242188,\n",
       "       0.04177083, 0.05416667, 0.14757813])"
      ]
     },
     "execution_count": 9,
     "metadata": {},
     "output_type": "execute_result"
    }
   ],
   "source": [
    "ans = ans@G\n",
    "ans"
   ]
  },
  {
   "cell_type": "code",
   "execution_count": 10,
   "metadata": {},
   "outputs": [
    {
     "data": {
      "text/plain": [
       "array([0.12008594, 0.16883919, 0.20107943, 0.14486654, 0.09602474,\n",
       "       0.04177083, 0.0605638 , 0.16676953])"
      ]
     },
     "execution_count": 10,
     "metadata": {},
     "output_type": "execute_result"
    }
   ],
   "source": [
    "ans = ans@G\n",
    "ans"
   ]
  },
  {
   "cell_type": "code",
   "execution_count": 11,
   "metadata": {
    "scrolled": true
   },
   "outputs": [
    {
     "data": {
      "text/plain": [
       "array([0.13775802, 0.15524528, 0.19292308, 0.1503041 , 0.10825926,\n",
       "       0.04448962, 0.06600137, 0.14501927])"
      ]
     },
     "execution_count": 11,
     "metadata": {},
     "output_type": "execute_result"
    }
   ],
   "source": [
    "ans = ans@G\n",
    "ans"
   ]
  },
  {
   "cell_type": "code",
   "execution_count": 12,
   "metadata": {},
   "outputs": [
    {
     "data": {
      "text/plain": [
       "array([0.12581804, 0.15928947, 0.20505565, 0.15280765, 0.10363733,\n",
       "       0.04680058, 0.05983879, 0.14675249])"
      ]
     },
     "execution_count": 12,
     "metadata": {},
     "output_type": "execute_result"
    }
   ],
   "source": [
    "ans = ans@G\n",
    "ans"
   ]
  },
  {
   "cell_type": "code",
   "execution_count": 13,
   "metadata": {},
   "outputs": [
    {
     "data": {
      "text/plain": [
       "array([0.1280279 , 0.15937132, 0.20210917, 0.14969747, 0.10633827,\n",
       "       0.04418149, 0.06032987, 0.14994452])"
      ]
     },
     "execution_count": 13,
     "metadata": {},
     "output_type": "execute_result"
    }
   ],
   "source": [
    "ans = ans@G\n",
    "ans"
   ]
  },
  {
   "cell_type": "code",
   "execution_count": 14,
   "metadata": {},
   "outputs": [
    {
     "data": {
      "text/plain": [
       "array([0.12896709, 0.15905825, 0.20040471, 0.15084537, 0.10525994,\n",
       "       0.0443902 , 0.06123428, 0.14984016])"
      ]
     },
     "execution_count": 14,
     "metadata": {},
     "output_type": "execute_result"
    }
   ],
   "source": [
    "ans = ans@G\n",
    "ans"
   ]
  },
  {
   "cell_type": "code",
   "execution_count": 15,
   "metadata": {},
   "outputs": [
    {
     "data": {
      "text/plain": [
       "array([0.12880447, 0.15873301, 0.20177958, 0.15083059, 0.10521559,\n",
       "       0.04477457, 0.06120471, 0.14865748])"
      ]
     },
     "execution_count": 15,
     "metadata": {},
     "output_type": "execute_result"
    }
   ],
   "source": [
    "ans = ans@G\n",
    "ans"
   ]
  },
  {
   "cell_type": "code",
   "execution_count": 16,
   "metadata": {},
   "outputs": [
    {
     "data": {
      "text/plain": [
       "array([0.12833115, 0.15924822, 0.2016979 , 0.15062744, 0.10524072,\n",
       "       0.044762  , 0.06086962, 0.14922295])"
      ]
     },
     "execution_count": 16,
     "metadata": {},
     "output_type": "execute_result"
    }
   ],
   "source": [
    "ans = ans@G\n",
    "ans"
   ]
  },
  {
   "cell_type": "code",
   "execution_count": 17,
   "metadata": {},
   "outputs": [
    {
     "data": {
      "text/plain": [
       "array([0.12871033, 0.15901235, 0.20132406, 0.15065058, 0.10545434,\n",
       "       0.04461959, 0.06102984, 0.14919891])"
      ]
     },
     "execution_count": 17,
     "metadata": {},
     "output_type": "execute_result"
    }
   ],
   "source": [
    "ans = ans@G\n",
    "ans"
   ]
  },
  {
   "cell_type": "code",
   "execution_count": 18,
   "metadata": {},
   "outputs": [
    {
     "data": {
      "text/plain": [
       "array([0.12860327, 0.15901462, 0.20150488, 0.15074213, 0.10529357,\n",
       "       0.04468768, 0.06102303, 0.14913082])"
      ]
     },
     "execution_count": 18,
     "metadata": {},
     "output_type": "execute_result"
    }
   ],
   "source": [
    "ans = ans@G\n",
    "ans"
   ]
  },
  {
   "cell_type": "code",
   "execution_count": 19,
   "metadata": {},
   "outputs": [
    {
     "data": {
      "text/plain": [
       "array([0.12858494, 0.15904597, 0.2015372 , 0.15068055, 0.10532348,\n",
       "       0.04468479, 0.06100373, 0.14913934])"
      ]
     },
     "execution_count": 19,
     "metadata": {},
     "output_type": "execute_result"
    }
   ],
   "source": [
    "ans = ans@G\n",
    "ans"
   ]
  },
  {
   "cell_type": "code",
   "execution_count": 20,
   "metadata": {},
   "outputs": [
    {
     "data": {
      "text/plain": [
       "array([0.12860068, 0.15905191, 0.20147707, 0.15068625, 0.10533557,\n",
       "       0.04467659, 0.06100615, 0.14916579])"
      ]
     },
     "execution_count": 20,
     "metadata": {},
     "output_type": "execute_result"
    }
   ],
   "source": [
    "ans = ans@G\n",
    "ans"
   ]
  },
  {
   "cell_type": "code",
   "execution_count": 26,
   "metadata": {},
   "outputs": [
    {
     "data": {
      "text/plain": [
       "array([0.1286015 , 0.1590412 , 0.20149461, 0.15069247, 0.10533091,\n",
       "       0.04467901, 0.06100924, 0.14915107])"
      ]
     },
     "execution_count": 26,
     "metadata": {},
     "output_type": "execute_result"
    }
   ],
   "source": [
    "ans = ans@G\n",
    "ans"
   ]
  },
  {
   "cell_type": "code",
   "execution_count": 27,
   "metadata": {},
   "outputs": [
    {
     "data": {
      "text/plain": [
       "array([0.12860198, 0.15904085, 0.20149424, 0.15069261, 0.10533109,\n",
       "       0.04467893, 0.06100947, 0.14915084])"
      ]
     },
     "execution_count": 27,
     "metadata": {},
     "output_type": "execute_result"
    }
   ],
   "source": [
    "ans = ans@G\n",
    "ans"
   ]
  },
  {
   "cell_type": "code",
   "execution_count": 28,
   "metadata": {},
   "outputs": [
    {
     "data": {
      "text/plain": [
       "array([0.12860177, 0.15904089, 0.20149456, 0.15069269, 0.1053309 ,\n",
       "       0.04467902, 0.06100941, 0.14915076])"
      ]
     },
     "execution_count": 28,
     "metadata": {},
     "output_type": "execute_result"
    }
   ],
   "source": [
    "ans = ans@G\n",
    "ans"
   ]
  },
  {
   "cell_type": "code",
   "execution_count": 29,
   "metadata": {},
   "outputs": [
    {
     "data": {
      "text/plain": [
       "array([0.12860176, 0.15904094, 0.20149453, 0.1506926 , 0.10533096,\n",
       "       0.044679  , 0.06100938, 0.14915082])"
      ]
     },
     "execution_count": 29,
     "metadata": {},
     "output_type": "execute_result"
    }
   ],
   "source": [
    "ans = ans@G\n",
    "ans"
   ]
  },
  {
   "cell_type": "code",
   "execution_count": 30,
   "metadata": {},
   "outputs": [
    {
     "data": {
      "text/plain": [
       "array([0.1286018 , 0.15904093, 0.20149446, 0.15069262, 0.10533097,\n",
       "       0.04467899, 0.0610094 , 0.14915084])"
      ]
     },
     "execution_count": 30,
     "metadata": {},
     "output_type": "execute_result"
    }
   ],
   "source": [
    "ans = ans@G\n",
    "ans"
   ]
  },
  {
   "cell_type": "code",
   "execution_count": 31,
   "metadata": {},
   "outputs": [
    {
     "data": {
      "text/plain": [
       "array([0.1286018 , 0.15904091, 0.20149449, 0.15069263, 0.10533096,\n",
       "       0.04467899, 0.0610094 , 0.14915081])"
      ]
     },
     "execution_count": 31,
     "metadata": {},
     "output_type": "execute_result"
    }
   ],
   "source": [
    "ans = ans@G\n",
    "ans"
   ]
  },
  {
   "cell_type": "code",
   "execution_count": 32,
   "metadata": {},
   "outputs": [
    {
     "data": {
      "text/plain": [
       "array([0.12860178, 0.15904092, 0.2014945 , 0.15069262, 0.10533096,\n",
       "       0.044679  , 0.0610094 , 0.14915082])"
      ]
     },
     "execution_count": 32,
     "metadata": {},
     "output_type": "execute_result"
    }
   ],
   "source": [
    "ans = ans@G\n",
    "ans"
   ]
  },
  {
   "cell_type": "code",
   "execution_count": 33,
   "metadata": {},
   "outputs": [
    {
     "data": {
      "text/plain": [
       "array([0.12860179, 0.15904092, 0.20149449, 0.15069262, 0.10533097,\n",
       "       0.04467899, 0.0610094 , 0.14915082])"
      ]
     },
     "execution_count": 33,
     "metadata": {},
     "output_type": "execute_result"
    }
   ],
   "source": [
    "ans = ans@G\n",
    "ans"
   ]
  },
  {
   "cell_type": "code",
   "execution_count": 34,
   "metadata": {},
   "outputs": [
    {
     "data": {
      "text/plain": [
       "array([0.12860179, 0.15904092, 0.20149449, 0.15069263, 0.10533096,\n",
       "       0.04467899, 0.0610094 , 0.14915082])"
      ]
     },
     "execution_count": 34,
     "metadata": {},
     "output_type": "execute_result"
    }
   ],
   "source": [
    "ans = ans@G\n",
    "ans"
   ]
  },
  {
   "cell_type": "code",
   "execution_count": 41,
   "metadata": {
    "scrolled": true
   },
   "outputs": [
    {
     "data": {
      "text/plain": [
       "array([0.12860179, 0.15904092, 0.20149449, 0.15069262, 0.10533096,\n",
       "       0.04467899, 0.0610094 , 0.14915082])"
      ]
     },
     "execution_count": 41,
     "metadata": {},
     "output_type": "execute_result"
    }
   ],
   "source": [
    "ans = ans@G\n",
    "ans"
   ]
  },
  {
   "cell_type": "markdown",
   "metadata": {},
   "source": [
    "결론 : [0.1286, 0.1590, 0.2015, 0.1507, 0.1053,\n",
    "       0.0447, 0.0610 , 0.1492]로, \n",
    "       웹페이지 중요도 순서는 3->2->4->8->1->5->7->6"
   ]
  }
 ],
 "metadata": {
  "kernelspec": {
   "display_name": "Python 3",
   "language": "python",
   "name": "python3"
  },
  "language_info": {
   "codemirror_mode": {
    "name": "ipython",
    "version": 3
   },
   "file_extension": ".py",
   "mimetype": "text/x-python",
   "name": "python",
   "nbconvert_exporter": "python",
   "pygments_lexer": "ipython3",
   "version": "3.8.5"
  }
 },
 "nbformat": 4,
 "nbformat_minor": 2
}
